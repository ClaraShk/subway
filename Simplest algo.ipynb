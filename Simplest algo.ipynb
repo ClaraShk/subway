{
 "cells": [
  {
   "cell_type": "markdown",
   "metadata": {},
   "source": [
    "## Load data and packages"
   ]
  },
  {
   "cell_type": "code",
   "execution_count": 3,
   "metadata": {},
   "outputs": [],
   "source": [
    "#from https://github.com/sswarnak77/Shortest-time-between-two-stations-in-New-York-subway-system-using-Python-and-Networkx-/tree/master/New%20York%20subway\n",
    "\n",
    "import csv\n",
    "import matplotlib\n",
    "import networkx as nx\n",
    "import pandas as pd\n",
    "import networkx as nx\n"
   ]
  },
  {
   "cell_type": "code",
   "execution_count": 4,
   "metadata": {},
   "outputs": [],
   "source": [
    "my_dict = {}\n",
    "with open('final_subway_data.csv') as f_input:\n",
    "    for row in csv.reader(f_input):\n",
    "        my_dict[row[0]] = {row[1]: row[2]}\n",
    "\n",
    "\n",
    "df = pd.read_csv('final_subway_data.csv', names=['origin', 'dest', 'dist'])\n",
    "g = nx.from_pandas_edgelist(df,source='origin',target='dest')"
   ]
  },
  {
   "cell_type": "markdown",
   "metadata": {},
   "source": [
    "## Print all stations as they appear in the data set"
   ]
  },
  {
   "cell_type": "code",
   "execution_count": 13,
   "metadata": {
    "scrolled": false
   },
   "outputs": [
    {
     "data": {
      "text/plain": [
       "NodeView(('1-103rd Street', '1-96th Street', '1-116th Street Columbia University', '1-Cathedral Parkway 110th Street', '1-125th Street', '1-137th Street City College', '1-145th Street', '1-14th Street', '1-Christopher Street Sheridan Square', '2-14th Street', '3-14th Street', 'F-14th Street', 'L-Sixth Avenue', 'M-14th Street', '1-157th Street', '1-168th Street', 'B-lower level', 'D-lower level', '1-181st Street', '1-18th Street', '1-191st Street', '1-207th Street', '1-Dyckman Street', '1-215th Street', '1-231st Street', '1-Marble Hill 225th Street', '1-238th Street', '1-23rd Street', '1-28th Street', '1-34th Street Penn Station', '1-50th Street', '1-Times Square 42nd Street', '1-59th Street Columbus Circle', '2-59th Street Columbus Circle', '1-66th Street Lincoln Center', '1-72nd Street', '1-79th Street', '1-86th Street', '1-Canal Street', '1-Franklin Street', '1-Chambers Street', '1-Cortlandt Street', '1-Houston Street', '1-Rector Street', '1-South Ferry', 'N-Whitehall Street South Ferry', 'R-Whitehall Street South Ferry', 'W-Whitehall Street South Ferry', '2-Times Square 42nd Street', '3-Times Square 42nd Street', '7-Times Square', 'A-42nd Street Port Authority Bus Terminal', 'C-42nd Street Port Authority Bus Terminal', 'E-42nd Street Port Authority Bus Terminal', 'N-Times Square 42nd Street', 'Q-Times Square 42nd Street', 'R-Times Square 42nd Street', 'W-Times Square 42nd Street', '1-Van Cortlandt Park 242nd Street', '2-116th Street', '2-Central Park North 110th Street', '2-125th Street', '2-135th Street', '2-149th Street Grand Concourse', '5-149th Street Grand Concourse', 'B-161st Street Yankee Stadium', 'D-161st Street Yankee Stadium', '2-Christopher Street Sheridan Square', '2-174th Street', '2-Freeman Street', '2-18th Street', '2-219th Street', '2-Gun Hill Road', '2-225th Street', '2-233rd Street', '2-23rd Street', '2-28th Street', '2-34th Street–Penn Station', '2-50th Street', '2-66th Street Lincoln Center', '2-72nd Street', '2-79th Street', '2-86th Street', '2-96th Street', '2-Allerton Avenue', '2-Pelham Parkway', '2-Atlantic Avenue Barclays Center', '2-Bergen Street', '3-Atlantic Avenue Barclays Center', '4-Atlantic Avenue Barclays Center', '5-Atlantic Avenue Barclays Center', 'D-Atlantic Avenue Barclays Center', 'L-Broadway Junction', 'N-Atlantic Avenue Barclays Center', 'R-Atlantic Avenue Barclays Center', '2-Grand Army Plaza', '2-Beverly Road', '2-Newkirk Avenue', '2-Borough Hall', '2-Hoyt Street', '3-Borough Hall', '4-Borough Hall', '5-Borough Hall', 'N-Court Street', 'R-Court Street', '2-Bronx Park East', '2-East 180th Street', '2-Burke Avenue', '2-Canal Street', '2-Franklin Street', '2-Chambers Street', '2-Park Place', '2-Houston Street', '2-Church Avenue', '2-Clark Street', '2-Crown Heights Utica Avenue', '2-Sutter Avenue Rutland Road', '2-West Farms Square East Tremont Avenue', '2-Eastern Parkway Brooklyn Museum', '2-Franklin Avenue', '2-Flatbush Avenue Brooklyn College', '2-Nostrand Avenue', '2-President Street', '3-Franklin Avenue', '4-Franklin Avenue', '5-Franklin Avenue', '2-Simpson Street', '2-Fulton Street', '2-Wall Street', '3-Fulton Street', '4-Fulton Street', '5-Fulton Street', 'A-Fulton Street', 'C-Fulton Street', 'Z-Fulton Street', '2-Nevins Street', '2-Intervale Avenue', '2-Prospect Avenue', '2-Jackson Avenue', '2-Third Avenue 149th Street', '2-Junius Street', '2-Pennsylvania Avenue', '2-Kingston Avenue', '2-Nereid Avenue', '3-Park Place', 'A-Chambers Street', 'C-Chambers Street', 'E-World Trade Center', '2-Van Siclen Avenue', '2-Sterling Street', '2-Rockaway Avenue', '2-Saratoga Avenue', '2-Winthrop Street', '2-149th Street–Grand Concourse', '2-34th Street Penn Station', '2-New Lots Avenue', '2-Wakefield–241st Street', '2-West Farms Square–East Tremont Avenue', '3-116th Street', '3-Central Park North 110th Street', '3-125th Street', '3-135th Street', '3-145th Street', '3-Chambers Street', '3-34th Street Penn Station', '3-72nd Street', '3-96th Street', '3-Bergen Street', '3-Grand Army Plaza', '3-Hoyt Street', '3-Clark Street', '3-Crown Heights Utica Avenue', '3-Sutter Avenue Rutland Road', '3-Eastern Parkway Brooklyn Museum', '3-Nostrand Avenue', '3-Wall Street', '3-Harlem 148th Street', '3-Nevins Street', '3-Junius Street', '3-Pennsylvania Avenue', '3-Kingston Avenue', '3-Van Siclen Avenue', '3-Rockaway Avenue', '3-Saratoga Avenue', '3-New Lots Avenue', '4-103rd Street', '4-96th Street', '4-110th Street', '4-116th Street', '4-125th Street', '4-138th Street Grand Concourse', '4-149th Street Grand Concourse', '4-14th Street Union Square', '4-Astor Place', '5-14th Street Union Square', '6-14th Street Union Square', 'L-Union Square', 'N-14th Street Union Square', 'Q-14th Street Union Square', 'R-14th Street Union Square', 'W-14th Street Union Square', '4-161st Street Yankee Stadium', '4-167th Street', '4-170th Street', '4-176th Street', '4-Mount Eden Avenue', '4-183rd Street', '4-Burnside Avenue', '4-23rd Street', '4-28th Street', '4-33rd Street', '4-51st Street', '4-Grand Central 42nd Street', '6-51st Street', 'E-Lexington Avenue 53rd Street', 'M-Lexington Avenue 53rd Street', '4-59th Street', '5-59th Street', '6-59th Street', 'A-59th Street Columbus Circle', 'B-59th Street Columbus Circle', 'C-59th Street Columbus Circle', 'D-59th Street Columbus Circle', '4-68th Street Hunter College', '4-77th Street', '4-86th Street', '4-Bleecker Street', '4-Bergen Street', '4-Bedford Park Boulevard Lehman College', '4-Kingsbridge Road', '4-Grand Army Plaza', '4-Spring Street', '6-Bleecker Street', 'B-Broadway Lafayette Street', 'D-Broadway Lafayette Street', 'F-Broadway Lafayette Street', 'M-Broadway Lafayette Street', '4-Nevins Street', '4-Bowling Green', '4-Brooklyn Bridge City Hall', '5-Brooklyn Bridge City Hall', '6-Brooklyn Bridge City Hall', 'Z-Chambers Street', '4-Canal Street', '6-Canal Street', 'N- (lower level – express)', 'N- (upper level – local)', 'Q- (lower level – express)', 'R- (upper level – local)', 'W- (upper level – local)', 'Z-Canal Street', '4-Eastern Parkway Brooklyn Museum', '4-Fordham Road', '4-Nostrand Avenue', '4-Wall Street', '5-Grand Central 42nd Street', '6-Grand Central 42nd Street', '7-Grand Central', '4-Kingston Avenue', '4-Crown Heights Utica Avenue', '4-Mosholu Parkway', '4-Woodlawn', '5-125th Street', '5-86th Street', '5-138th Street Grand Concourse', '5-174th Street', '5-Freeman Street', '5-219th Street', '5-Gun Hill Road White Plains Road', '5-225th Street', '5-233rd Street', '5-Allerton Avenue', '5-Pelham Parkway White Plains Road', '5-Baychester Avenue', '5-Gun Hill Road–Seymour Avenue', '5-Beverly Road', '5-Newkirk Avenue', '5-Nevins Street', '5-Bowling Green', '5-Bronx Park East', '5-East 180th Street', '5-Burke Avenue', '5-Church Avenue', '5-Crown Heights Utica Avenue', '5-Sutter Avenue Rutland Road', '5-West Farms Square East Tremont Avenue', '5-Eastchester Dyre Avenue', '5-Flatbush Avenue Brooklyn College', '5-President Street', '5-Simpson Street', '5-Wall Street', '5-Gun Hill Road Seymour Avenue', '5-Pelham Parkway Espalanade', '5-Intervale Avenue', '5-Prospect Avenue', '5-Jackson Avenue', '5-Third Avenue 149th Street', '5-Junius Street', '5-Pennsylvania Avenue', '5-Morris Park', '5-Nereid Avenue', '5-Van Siclen Avenue', '5-Sterling Street', '5-Rockaway Avenue', '5-Saratoga Avenue', '5-Winthrop Street', '5-New Lots Avenue', '6-103rd Street', '6-96th Street', '6-110th Street', '6-116th Street', '6-125th Street', '6-Astor Place', '6-23rd Street', '6-28th Street', '6-33rd Street', '6-68th Street Hunter College', '6-77th Street', '6-86th Street', '6-Spring Street', '6-Brook Avenue', '6-Third Avenue 138th Street', '6-Buhre Avenue', '6-Middletown Road', '6-Castle Hill Avenue', '6-Parkchester', '6-Cypress Avenue', \"6-East 143rd Street St Mary's Street\", '6-East 149th Street', '6-Elder Avenue', '6-Whitlock Avenue', '6-Hunts Point Avenue', '6-Longwood Avenue', '6-Westchester Square East Tremont Avenue', '6-Morrison Avenue Soundview', '6-St. Lawrence Avenue', '6-Pelham Bay Park', '6-Zerega Avenue', '7-103rd Street Corona Plaza', '7-Junction Boulevard', '7-111th Street', '7-33rd Street Rawson Street', '7-Queensboro Plaza', '7-40th Street Lowery Street', '7-46th Street Bliss Street', '7-52nd Street', '7-61st Street Woodside', '7-69th Street', '7-74th Street Broadway', 'E-Jackson Heights Roosevelt Avenue', 'F-Jackson Heights Roosevelt Avenue', 'M-Jackson Heights Roosevelt Avenue', 'R-Jackson Heights Roosevelt Avenue', '7-82nd Street Jackson Heights', '7-90th Street Elmhurst Avenue', '7-Court Square', '7-Hunters Point Avenue', 'G-Court Square', 'G-Court Square 23rd Street', 'Z-lower level', '7-Fifth Avenue', 'B-42nd Street Bryant Park', 'D-42nd Street Bryant Park', 'F-42nd Street Bryant Park', 'M-42nd Street Bryant Park', '7-Flushing Main Street', '7-Mets Willets Point', '7-Vernon Boulevard Jackson Avenue', '7-34th Street Hudson Yards', 'A-103rd Street', 'A-96th Street', 'A-104th Street', 'A-111th Street', 'A-Ozone Park Lefferts Boulevard', 'A-116th Street', 'A-Cathedral Parkway 110th Street', 'A-125th Street', 'A-135th Street', 'A-145th Street', 'A-14th Street', 'A-West Fourth Street Washington Square', 'C-14th Street', 'E-14th Street', 'L-Eighth Avenue', 'A-155th Street', 'A-163rd Street Amsterdam Avenue', 'A-168th Street', 'C-168th Street', 'A-175th Street', 'A-181st Street', 'A-190th Street', 'A-23rd Street', 'A-34th Street Penn Station', 'A-50th Street', 'A-72nd Street', 'A-80th Street', 'A-88th Street', 'A-81st Street Museum of Natural History', 'A-86th Street', 'A-Rockaway Boulevard', 'A-Aqueduct North Conduit Avenue', 'A-Howard Beach JFK Airport', 'A-Aqueduct Racetrack', 'A-Beach 105th Street', 'A-Rockaway Park Beach 116th Street', 'A-Beach 25th Street', 'A-Far Rockaway Mott Avenue', 'A-Beach 36th Street', 'A-Beach 44th Street', 'A-Beach 60th Street', 'A-Beach 67th Street', 'A-Beach 90th Street', 'A-Beach 98th Street', 'A-Broad Channel', 'A-Broadway Junction', 'A-Liberty Avenue', 'C-Broadway Junction', 'Z-Broadway Junction', 'A-Canal Street', 'A-Clinton Washington Avenues', 'A-Franklin Avenue', 'A-Dyckman Street', 'A-Euclid Avenue', 'A-Grant Avenue', 'A-Nostrand Avenue', 'C-Franklin Avenue', 'A-High Street', 'A-Jay Street MetroTech', 'A-Hoyt Schermerhorn Streets', 'A Lafayette Avenue', 'A-Inwood 207th Street', 'A-Kingston Throop Avenues', 'A-Utica Avenue', 'A-Lafayette Avenue', 'A-Van Siclen Avenue', 'A-Ralph Avenue', 'A-Rockaway Avenue', 'A-Shepherd Avenue', 'A-Spring Street', 'B-103rd Street', 'B-96th Street', 'B-116th Street', 'B-Cathedral Parkway 110th Street', 'B-125th Street', 'B-135th Street', 'B-145th Street', 'B-155th Street', 'B-167th Street', 'B-170th Street', 'B-174th 175th Streets', 'B-182nd 183rd Streets', 'B-Tremont Avenue', 'B-34th Street Herald Square', 'B-West Fourth Street–Washington Square', 'D-34th Street Herald Square', 'F-34th Street Herald Square', 'M-34th Street Herald Square', 'N-34th Street Herald Square', 'Q-34th Street Herald Square', 'R-34th Street Herald Square', 'W-34th Street Herald Square', 'B-47th–50th Streets Rockefeller Center', 'B-Seventh Avenue53rd Street', 'B-72nd Street', 'B-81st Street Museum of Natural History', 'B-86th Street', 'B-Atlantic Avenue Barclays Center', 'B-Seventh Avenue Flatbush Avenue', 'D-Ninth Street', 'N-Ninth Street', 'Q-Atlantic Avenue Barclays Center', 'R-Ninth Street', 'B-Bedford Park Boulevard', 'B-Kingsbridge Road', 'B-Grand Street', 'B-Church Avenue', 'B-Newkirk Plaza', 'B-DeKalb Avenue', 'B-Fordham Road', 'B-Kings Highway', 'B-Sheepshead Bay', 'B-Prospect Park', 'B-Seventh Avenue–53rd Street', 'B-47th–50th Streets–Rockefeller Center', 'B-Seventh Avenue–Flatbush Avenue', 'B-Brighton Beach', 'B-174th–175th Streets', 'B-West Fourth Street Washington Square', 'C-103rd Street', 'C-96th Street', 'C-116th Street', 'C-Cathedral Parkway 110th Street', 'C-125th Street', 'C-135th Street', 'C-145th Street', 'C-West Fourth Street Washington Square', 'C-155th Street', 'C-163rd Street Amsterdam Avenue', 'C-23rd Street', 'C-34th Street Penn Station', 'C-50th Street', 'C-42nd Street–Port Authority Bus Terminal', 'C-72nd Street', 'C-81st Street Museum of Natural History', 'C-86th Street', 'C-Liberty Avenue', 'C-Canal Street', 'C-Clinton Washington Avenues', 'C-Nostrand Avenue', 'C-High Street', 'C-Jay Street MetroTech', 'C-Hoyt Schermerhorn Streets', 'C-Lafayette Avenue', 'C-Kingston Throop Avenues', 'C-Utica Avenue', 'C-Van Siclen Avenue', 'C-Ralph Avenue', 'C-Rockaway Avenue', 'C-Shepherd Avenue', 'C-Euclid Avenue', 'C-Spring Street', 'D-125th Street', 'D-145th Street', 'D-155th Street', 'D-167th Street', 'D-170th Street', 'D-174th 175th Streets', 'D-182nd 183rd Streets', 'D-Tremont Avenue', 'D-18th Avenue', 'D-20th Avenue', 'D-Bay Parkway', 'D-25th Avenue', 'D-Bay 50th Street', 'D-25th Street', 'D-36th Street', 'D-West Fourth Street Washington Square', 'D-Ninth Avenue', 'D-47th–50th Streets Rockefeller Center', 'D-50th Street', 'D-55th Street', 'D-62nd Street', 'D-Seventh Avenue', 'M-Myrtle Wyckoff Avenues', 'D-79th Street', 'D-Union Street', 'D-Coney Island Stillwell Avenue', 'D-Bedford Park Boulevard', 'D-Kingsbridge Road', 'D-Grand Street', 'D-DeKalb Avenue', 'D-Fordham Road', 'D-Fort Hamilton Parkway', 'D-Prospect Avenue', 'D-Norwood 205th Street', 'E-West Fourth Street Washington Square', 'E-23rd Street', 'E-34th Street Penn Station', 'E-36th Street', 'E-Queens Plaza', 'E-46th Street', 'E-Steinway Street', 'E-50th Street', 'E-63rd Drive Rego Park', 'E-Woodhaven Boulevard', 'E-65th Street', 'E-Northern Boulevard', 'E-67th Avenue', 'E-75th Avenue', 'E-Forest Hills 71st Avenue', 'E-Briarwood', 'E-Kew Gardens Union Turnpike', 'E-Canal Street', 'E-Court Square 23rd Street', 'M-Court Square 23rd Street', 'E-Elmhurst Avenue', 'E-Fifth Avenue/53rd Street', 'E-Seventh Avenue', 'E-Grand Avenue Newtown', 'E-Jamaica 179th Street', 'E-Parsons Boulevard', 'E-Jamaica Center Parsons/Archer', 'E-Sutphin Boulevard Archer Avenue JFK Airport', 'E-Jamaica Van Wyck', 'E-Fifth Avenue 53rd Street', 'E-Jamaica Center Parsons Archer', 'E-Spring Street', 'E-Sutphin Boulevard–Archer Avenue–JFK Airport', 'E-West Fourth Street–Washington Square', 'E-Grand Avenue–Newtown', 'F-West Fourth Street Washington Square', 'F-15th Street Prospect Park', 'F-Fort Hamilton Parkway', 'F-169th Street', 'F-Parsons Boulevard', 'F-18th Avenue', 'F-Avenue I', 'F-21st Street Queensbridge', 'F-Roosevelt Island', 'F-23rd Street', 'F-47th 50th Streets Rockefeller Center', 'F-57th Street', 'F-47th–50th Streets Rockefeller Center', 'F-75th Avenue', 'F-Forest Hills 71st Avenue', 'F-Bay Parkway', 'F-Avenue N', 'F-Avenue P', 'F-Kings Highway', 'F-Avenue U', 'F-Avenue X', 'F-Neptune Avenue', 'F-Bergen Street', 'F-Carroll Street', 'F-Briarwood', 'F-Kew Gardens Union Turnpike', 'F-Second Avenue', 'F-Smith Ninth Streets', 'F-Church Avenue', 'F-Ditmas Avenue', 'F-Delancey Street', 'F-East Broadway', 'M-Essex Street', 'Z-Essex Street', 'F-York Street', 'F-Forest Hills–71st Avenue', 'F-Fourth Avenue', 'F-Seventh Avenue', 'G-Fourth Avenue', 'F-Jackson Heights–Roosevelt Avenue', '7-74th Street–Broadway', 'E-Jackson Heights–Roosevelt Avenue', 'F-21st Street–Queensbridge', 'M-Jackson Heights–Roosevelt Avenue', 'R-Jackson Heights–Roosevelt Avenue', 'F-Jamaica–179th Street', 'F-Jay Street–MetroTech', 'F-Lexington Avenue–63rd Street', 'F-59th Street', 'N-Lexington Avenue/59th Street', 'R-Lexington Avenue/59th Street', 'W-Lexington Avenue/59th Street', 'F-West Eighth Street–New York Aquarium', 'F-Sutphin Boulevard', 'F-15th Street–Prospect Park', 'F-Smith–Ninth Streets', 'F-Coney Island Stillwell Avenue', 'F-West Fourth Street–Washington Square', 'F-Broadway–Lafayette Street', 'G-15th Street–Prospect Park', 'G-Fort Hamilton Parkway', 'G-21st Street', 'G-Greenpoint Avenue', 'G-Bedford–Nostrand Avenues', 'G-Classon Avenue', 'G-Bergen Street', 'G-Carroll Street', 'G-Broadway', 'G-Flushing Avenue', 'G-Smith–Ninth Streets', 'G-Clinton–Washington Avenues', 'G-Fulton Street', 'G-Court Square–23rd Street', 'G-Myrtle–Willoughby Avenues', 'G-Church Avenue', 'G-Seventh Avenue', 'G-Hoyt–Schermerhorn Streets', 'G-Nassau Avenue', 'G-Metropolitan Avenue', 'L-Myrtle–Wyckoff Avenues', 'L-Atlantic Avenue', 'L-Sutter Avenue', 'L-Bedford Avenue', 'L-Lorimer Street', '2-Atlantic Avenue–Barclays Center', '3-Atlantic Avenue–Barclays Center', '4-Atlantic Avenue–Barclays Center', '5-Atlantic Avenue–Barclays Center', 'D-Atlantic Avenue–Barclays Center', 'N-Atlantic Avenue–Barclays Center', 'R-Atlantic Avenue–Barclays Center', 'L-Bushwick Avenue–Aberdeen Street', 'L-DeKalb Avenue', 'L-East 105th Street', 'L-Canarsie–Rockaway Parkway', 'L-First Avenue', 'L-Graham Avenue', 'L-Grand Street', 'L-Montrose Avenue', 'L-Halsey Street', 'L-Wilson Avenue', 'L-Jefferson Street', 'L-Livonia Avenue', 'L-New Lots Avenue', 'N-Jay Street–MetroTech', 'R-Jay Street–MetroTech', 'L-Morgan Avenue', 'L-Third Avenue', '4-14th Street–Union Square', '5-14th Street–Union Square', '6-14th Street–Union Square', 'N-14th Street–Union Square', 'Q-14th Street–Union Square', 'R-14th Street–Union Square', 'W-14th Street–Union Square', 'M-West Fourth Street–Washington Square', 'M-23rd Street', 'M-34th Street–Herald Square', 'B-34th Street–Herald Square', 'D-34th Street–Herald Square', 'F-34th Street–Herald Square', 'N-34th Street–Herald Square', 'Q-34th Street–Herald Square', 'R-34th Street–Herald Square', 'W-34th Street–Herald Square', 'M-36th Street', 'M-Queens Plaza', 'M-34th Street erald Square', 'M-46th Street', 'M-Steinway Street', 'M-47th–50th Streets–Rockefeller Center', 'M-42nd Street–Bryant Park', 'M-63rd Drive–Rego Park', 'M-Woodhaven Boulevard', 'M-65th Street', 'M-Northern Boulevard', 'M-67th Avenue', 'M-Broadway–Lafayette Street', 'B-Broadway–Lafayette Street', 'D-Broadway–Lafayette Street', 'M-Central Avenue', 'M-Knickerbocker Avenue', 'M-Elmhurst Avenue', 'M-Marcy Avenue', 'M-Fifth Avenue 53rd Street', 'M-47th 50th Streets Rockefeller Center', 'M-Flushing Avenue', 'M-Myrtle Avenue', 'M-Forest Avenue', 'M-Fresh Pond Road', 'M-Forest Hills 71st Avenue', 'M-Middle Village Metropolitan Avenue', 'M-Grand Avenue Newtown', 'M-Hewes Street', 'M-Lorimer Street', 'M-Seneca Avenue', 'M-West Fourth Street Washington Square', 'N-Eighth Street New York University', 'N-18th Avenue', 'N-20th Avenue', 'N-Bay Parkway', 'N-23rd Street', 'N-25th Street', 'N-36th Street', 'N-28th Street', 'N-30th Avenue', 'N-Broadway', 'N-36th Avenue', 'N-39th Avenue', 'N-45th Street', 'N-Queensboro Plaza', 'N-53rd Street', 'N-49th Street', 'N-59th Street', 'N-57th Street Seventh Avenue', 'N-Eighth Avenue', 'N-72nd Street', 'N-Lexington Avenue 63rd Street', 'N-86th Street', 'N-Coney Island Stillwell Avenue', 'N-96th Street', 'N-Astoria Boulevard', 'N-Astoria Ditmars Boulevard', 'N-Union Street', 'N-Avenue U', 'N-Kings Highway', 'N-Canal Street (Broadway)', 'N-Canal Street', 'N-City Hall', 'N-Cortlandt Street', 'N-Rector Street', 'N-Jay Street MetroTech', 'N-DeKalb Avenue', 'N-Fort Hamilton Parkway', 'N-Prince Street', 'N-Fifth Avenue 59th Street', 'N-New Utrecht Avenue', 'R-Jay Street MetroTech', 'N-Lexington Avenue 59th Street', 'F-Lexington Avenue 63rd Street', 'R-Lexington Avenue 59th Street', 'W-Lexington Avenue 59th Street', 'N-Prospect Avenue', 'N-Astoria–Ditmars Boulevard', 'R Whitehall Street South Ferry', 'Q-Eighth Street–New York University', 'Q-23rd Street', 'Q-28th Street', 'Q-49th Street', 'Q-Times Square–42nd Street', 'Q-57th Street–Seventh Avenue', 'Q-72nd Street', 'Q-Lexington Avenue–63rd Street', 'Q-86th Street', 'Q-96th Street', 'Q-Atlantic Avenue–Barclays Center', 'B-Atlantic Avenue–Barclays Center', 'Q-Seventh Avenue', 'Q-Avenue H', 'Q-Avenue J', 'Q-Avenue M', 'Q-Kings Highway', 'Q-Avenue U', 'Q-Neck Road', 'Q-Beverley Road', 'Q-Cortelyou Road', 'Q-Brighton Beach', 'Q-Ocean Parkway', 'Q-Canal Street', 'Q-DeKalb Avenue', 'Q-Church Avenue', 'Q-Newkirk Plaza', 'Q-Prince Street', 'Q-Sheepshead Bay', 'Q-West Eighth Street–New York Aquarium', 'Q-Parkside Avenue', 'Q-Prospect Park', '1-Times Square–42nd Street', '2-Times Square–42nd Street', '3-Times Square–42nd Street', 'A-42nd Street–Port Authority Bus Terminal', 'E-42nd Street–Port Authority Bus Terminal', 'N-Times Square–42nd Street', 'R-Times Square–42nd Street', 'W-Times Square–42nd Street', 'Q-West Eighth Street New York Aquarium', 'Q-Coney Island Stillwell Avenue', 'R-Eighth Street New York University', 'R-23rd Street', 'R-25th Street', 'R-36th Street Fourth Avenue', 'R-28th Street', 'R-36th Street–Fourth Avenue', 'R-45th Street', 'R-36th Street–Northern Boulevard', 'R-Queens Plaza', 'R-53rd Street', 'R-46th Street', 'R-Steinway Street', 'R-49th Street', 'R-59th Street', 'R-57th Street Seventh Avenue', 'R-Bay Ridge Avenue', 'R-63rd Drive Rego Park', 'R-Woodhaven Boulevard', 'R-65th Street', 'R-Northern Boulevard', 'R-67th Avenue', 'R-63rd Drive–Rego Park', 'R-77th Street', 'R-86th Street', 'R-Bay Ridge–95th Street', 'R-Union Street', 'R-Canal Street', 'R-City Hall', 'R-Cortlandt Street', 'R-Rector Street', 'R-DeKalb Avenue', 'R-Eighth Street–New York University', 'R-Prince Street', 'R-Elmhurst Avenue', 'R-Fifth Avenue–59th Street', 'R-57th Street–Seventh Avenue', 'R-Forest Hills–71st Avenue', 'R-Grand Avenue–Newtown', 'R-Prospect Avenue', 'R-Whitehall Street–South Ferry', 'R-Grand Avenue Newtown', 'SIR-Annadale', 'SIR-Huguenot', 'SIR-Arthur Kill', 'SIR-Atlantic', 'SIR-Tottenville', 'SIR-Bay Terrace', 'SIR-Great Kills', 'SIR-Clifton', 'SIR-Grasmere', 'SIR-Dongan Hills', 'SIR-Jefferson Avenue', 'SIR-Eltingville', 'SIR-Grant City', 'SIR-New Dorp', 'SIR-Old Town', \"SIR-Prince's Bay\", 'SIR-Nassau', 'SIR-Oakwood Heights', 'SIR-Pleasant Plains', 'SIR-Richmond Valley', 'SIR-Stapleton', 'SIR-St. George Terminal', 'SIR-Tompkinsville', 'W-Eighth Street–New York University', 'W-23rd Street', 'W-28th Street', 'W-30th Avenue', 'W-Broadway', 'W-36th Avenue', 'W-39th Avenue', 'W-Queensboro Plaza', 'W-49th Street', 'W-57th Street–Seventh Avenue', 'W-Astoria Boulevard', 'W-Astoria–Ditmars Boulevard', 'W-Canal Street', 'W-City Hall', 'W-Cortlandt Street', 'W-Rector Street', 'W-Prince Street', 'W-Fifth Avenue–59th Street', 'W-Whitehall Street–South Ferry', 'Z-104th Street', 'Z-Woodhaven Boulevard', 'Z-111th Street', 'Z-121st Street', 'Z-75th Street–Elderts Lane', 'Z-Cypress Hills', 'Z-85th Street Forest Parkway', 'Z-Alabama Avenue', 'Z-Bowery', 'Z-Chauncey Street', '4-Brooklyn Bridge–City Hall', '5-Brooklyn Bridge–City Hall', '6-Brooklyn Bridge–City Hall', 'Z-Halsey Street', 'Z-Cleveland Street', 'Z-Van Siclen Avenue', 'Z-Crescent Street', 'Z-Norwood Avenue', 'Z-Flushing Avenue', 'Z-Lorimer Street', 'Z-Broad Street', 'Z-Gates Avenue', 'Z-Kosciuszko Street', 'Z-Hewes Street', 'Z-Marcy Avenue', 'Z-Jamaica Center Parsons/Archer', 'Z-Sutphin Boulevard Archer Avenue JFK Airport', 'Z-Myrtle Avenue', 'Z-Sutphin Boulevard Archer Avenue– FK Airport'))"
      ]
     },
     "execution_count": 13,
     "metadata": {},
     "output_type": "execute_result"
    }
   ],
   "source": [
    "g.nodes()"
   ]
  },
  {
   "cell_type": "markdown",
   "metadata": {},
   "source": [
    "## Get 3 stations"
   ]
  },
  {
   "cell_type": "code",
   "execution_count": 52,
   "metadata": {
    "scrolled": false
   },
   "outputs": [
    {
     "name": "stdout",
     "output_type": "stream",
     "text": [
      "Enter station 1: 6-14th Street Union Square\n",
      "Enter station 2: 4-96th Street\n",
      "Enter station 3: 7-Queensboro Plaza\n"
     ]
    }
   ],
   "source": [
    "station_1 = input(\"Enter station 1: \")\n",
    "station_2 = input(\"Enter station 2: \")\n",
    "station_3 = input(\"Enter station 3: \")\n",
    "\n",
    "#6-14th Street Union Square\n",
    "#Enter station 1: 4-96th Street\n",
    "#Enter station 2: A-Euclid Avenue\n",
    "#Enter station 3: 7-Queensboro Plaza"
   ]
  },
  {
   "cell_type": "markdown",
   "metadata": {},
   "source": [
    "## Find and print the closest stations\n",
    "Find the smallest number *k* such that there is a common station of distance at most *k* from every input station"
   ]
  },
  {
   "cell_type": "code",
   "execution_count": 54,
   "metadata": {},
   "outputs": [
    {
     "name": "stdout",
     "output_type": "stream",
     "text": [
      "Min dist:  7\n",
      "Common staions:  {'5-Grand Central 42nd Street', '4-51st Street', '5-59th Street', '6-51st Street', '4-Grand Central 42nd Street'}\n"
     ]
    }
   ],
   "source": [
    "isListEmpty = True\n",
    "k = 0\n",
    "while isListEmpty:\n",
    "    list_1 = [node for node, distance in nx.shortest_path_length(g, station_1).items() if distance <= k]\n",
    "    list_2 = [node for node, distance in nx.shortest_path_length(g, station_2).items() if distance <= k]\n",
    "    list_3 = [node for node, distance in nx.shortest_path_length(g, station_3).items() if distance <= k]\n",
    "    int_set = set(list_1)&set(list_2)&set(list_3)\n",
    "    if len(int_set)>0:\n",
    "        isListEmpty = False\n",
    "    k = k+1\n",
    "print(\"Min dist: \", k)\n",
    "print(\"Common staions: \", int_set)\n"
   ]
  },
  {
   "cell_type": "code",
   "execution_count": null,
   "metadata": {},
   "outputs": [],
   "source": []
  }
 ],
 "metadata": {
  "kernelspec": {
   "display_name": "Python 3",
   "language": "python",
   "name": "python3"
  },
  "language_info": {
   "codemirror_mode": {
    "name": "ipython",
    "version": 3
   },
   "file_extension": ".py",
   "mimetype": "text/x-python",
   "name": "python",
   "nbconvert_exporter": "python",
   "pygments_lexer": "ipython3",
   "version": "3.8.5"
  }
 },
 "nbformat": 4,
 "nbformat_minor": 4
}
